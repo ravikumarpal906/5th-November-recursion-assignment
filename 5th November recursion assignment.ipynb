{
 "cells": [
  {
   "cell_type": "markdown",
   "id": "48d0b952-2c0d-4a31-881f-d56f8c942ceb",
   "metadata": {},
   "source": [
    "Q.1 Can you explain the logic and working of the Tower of Hanoi algorithm by writing a Java program?\n",
    "How does the recursion work, and how are the movements of disks between rods accomplished?"
   ]
  },
  {
   "cell_type": "code",
   "execution_count": 1,
   "id": "95202133-1909-4934-8a70-7ae500f250d7",
   "metadata": {},
   "outputs": [
    {
     "name": "stdout",
     "output_type": "stream",
     "text": [
      "Move disk 1 from A to C\n",
      "Move disk 2 from A to B\n",
      "Move disk 1 from C to B\n",
      "Move disk 3 from A to C\n",
      "Move disk 1 from B to A\n",
      "Move disk 2 from B to C\n",
      "Move disk 1 from A to C\n"
     ]
    }
   ],
   "source": [
    "def tower_of_hanoi(n, source, target, auxiliary):\n",
    "    if n == 1:\n",
    "        print(f\"Move disk 1 from {source} to {target}\")\n",
    "        return\n",
    "    tower_of_hanoi(n-1, source, auxiliary, target)\n",
    "    print(f\"Move disk {n} from {source} to {target}\")\n",
    "    tower_of_hanoi(n-1, auxiliary, target, source)\n",
    "\n",
    "# Example usage\n",
    "n = 3  # Number of disks\n",
    "tower_of_hanoi(n, 'A', 'C', 'B')\n"
   ]
  },
  {
   "cell_type": "markdown",
   "id": "f30f8079-04ef-4110-86e8-a2bce6ac7438",
   "metadata": {},
   "source": [
    "Q.2 Given two strings word1 and word2, return the minimum number of operations required to convert word1 to word2.\n",
    "\n",
    "Example 1:  \n",
    "Input: word1 = \"horse\", word2 = \"ros\"   \n",
    "Output: 3   \n",
    "Explanation:  \n",
    "horse -> rorse (replace 'h' with 'r')   \n",
    "rorse -> rose (remove 'r')   \n",
    "rose -> ros (remove 'e')   \n",
    "Example 2:  \n",
    "Input: word1 = \"intention\", word2 = \"execution\"    \n",
    "Output: 5\n",
    "Explanation:  \n",
    "intention -> inention (remove 't')          \n",
    "inention -> enention (replace 'i' with 'e')    \n",
    "enention -> exention (replace 'n' with 'x')    \n",
    "exention -> exection (replace 'n' with 'c')    \n",
    "exection -> execution (insert 'u')    "
   ]
  },
  {
   "cell_type": "code",
   "execution_count": 2,
   "id": "4f51ee6d-149a-44b4-baf0-6e7e4c464cd0",
   "metadata": {},
   "outputs": [
    {
     "name": "stdout",
     "output_type": "stream",
     "text": [
      "3\n",
      "5\n"
     ]
    }
   ],
   "source": [
    "def minDistance(word1, word2):\n",
    "    m, n = len(word1), len(word2)\n",
    "    dp = [[0 for _ in range(n+1)] for _ in range(m+1)]\n",
    "\n",
    "    for i in range(m+1):\n",
    "        dp[i][0] = i\n",
    "    for j in range(n+1):\n",
    "        dp[0][j] = j\n",
    "\n",
    "    for i in range(1, m+1):\n",
    "        for j in range(1, n+1):\n",
    "            if word1[i-1] == word2[j-1]:\n",
    "                dp[i][j] = dp[i-1][j-1]\n",
    "            else:\n",
    "                dp[i][j] = min(dp[i-1][j], dp[i][j-1], dp[i-1][j-1]) + 1\n",
    "\n",
    "    return dp[m][n]\n",
    "print(minDistance(\"horse\", \"ros\"))  # Output: 3\n",
    "print(minDistance(\"intention\", \"execution\"))  # Output: 5\n"
   ]
  },
  {
   "cell_type": "code",
   "execution_count": 3,
   "id": "374b3fc5-0baa-47a3-b86c-d63c334e177f",
   "metadata": {},
   "outputs": [
    {
     "name": "stdout",
     "output_type": "stream",
     "text": [
      "Output: 3\n",
      "Operations: RDD\n",
      "Output: 5\n",
      "Operations: RRDRI\n"
     ]
    }
   ],
   "source": [
    "def minDistance(word1, word2):\n",
    "    m, n = len(word1), len(word2)\n",
    "\n",
    "    # Create a 2D array to store the edit distances and operations\n",
    "    dp = [[(0, '')] * (n + 1) for _ in range(m + 1)]\n",
    "\n",
    "    # Initialize the first row and column\n",
    "    for i in range(m + 1):\n",
    "        dp[i][0] = (i, 'D' * i)  # Deletion\n",
    "    for j in range(n + 1):\n",
    "        dp[0][j] = (j, 'I' * j)  # Insertion\n",
    "\n",
    "    # Fill in the rest of the array\n",
    "    for i in range(1, m + 1):\n",
    "        for j in range(1, n + 1):\n",
    "            if word1[i - 1] == word2[j - 1]:\n",
    "                dp[i][j] = (dp[i - 1][j - 1][0], dp[i - 1][j - 1][1])\n",
    "            else:\n",
    "                # Find the minimum operation and update dp\n",
    "                deletion = dp[i - 1][j][0] + 1\n",
    "                insertion = dp[i][j - 1][0] + 1\n",
    "                substitution = dp[i - 1][j - 1][0] + 1\n",
    "\n",
    "                min_operations = min(deletion, insertion, substitution)\n",
    "\n",
    "                if min_operations == deletion:\n",
    "                    operation = dp[i - 1][j][1] + 'D'\n",
    "                elif min_operations == insertion:\n",
    "                    operation = dp[i][j - 1][1] + 'I'\n",
    "                else:\n",
    "                    operation = dp[i - 1][j - 1][1] + 'R'\n",
    "\n",
    "                dp[i][j] = (min_operations, operation)\n",
    "\n",
    "    return dp[m][n][0], dp[m][n][1]\n",
    "\n",
    "# Test cases\n",
    "output, operations = minDistance(\"horse\", \"ros\")\n",
    "print(f\"Output: {output}\\nOperations: {operations}\")\n",
    "\n",
    "output, operations = minDistance(\"intention\", \"execution\")\n",
    "print(f\"Output: {output}\\nOperations: {operations}\")\n"
   ]
  },
  {
   "cell_type": "markdown",
   "id": "ab06526a-4020-4d1d-823f-0eea28ed2a60",
   "metadata": {},
   "source": [
    "Q. 3 Print the max value of the array [ 13, 1, -3, 22, 5]."
   ]
  },
  {
   "cell_type": "code",
   "execution_count": 1,
   "id": "11851f80-6a01-476e-bd7b-5ab74d84842a",
   "metadata": {},
   "outputs": [
    {
     "name": "stdout",
     "output_type": "stream",
     "text": [
      "The max value of the array is: 22\n"
     ]
    }
   ],
   "source": [
    "arr = [13, 1, -3, 22, 5]\n",
    "max_value = max(arr)\n",
    "\n",
    "print(\"The max value of the array is:\", max_value)"
   ]
  },
  {
   "cell_type": "markdown",
   "id": "854f1262-f942-4012-8c35-e657877e10b6",
   "metadata": {},
   "source": [
    "Q.4 Find the sum of the values of the array [92, 23, 15, -20, 10]."
   ]
  },
  {
   "cell_type": "code",
   "execution_count": 2,
   "id": "d0ba8fe8-9a12-4e61-b64a-d4162788da2b",
   "metadata": {},
   "outputs": [
    {
     "name": "stdout",
     "output_type": "stream",
     "text": [
      "The sum of the values in the array is: 120\n"
     ]
    }
   ],
   "source": [
    "arr = [92, 23, 15, -20, 10]\n",
    "sum_of_values = sum(arr)\n",
    "\n",
    "print(\"The sum of the values in the array is:\", sum_of_values)"
   ]
  },
  {
   "cell_type": "markdown",
   "id": "10505a9d-0e6b-4a1c-a251-38a5e5b69178",
   "metadata": {},
   "source": [
    "Q.5 Given a number n. Print if it is an armstrong number or not.An armstrong number is a number if the sum\n",
    "of every digit in that number raised to the power of total digits in that number is equal to the number.   \n",
    "Example : 153 = 1^3 + 5^3 + 3^3 = 1 + 125 + 27 = 153 hence 153 is an armstrong number. (Easy)   \n",
    "Input1 : 153   \n",
    "Output1 : Yes   \n",
    "Input 2 : 134  \n",
    "Output2 : No  "
   ]
  },
  {
   "cell_type": "code",
   "execution_count": 7,
   "id": "9eabad75-a67b-45c7-a98c-8505e86eefe5",
   "metadata": {},
   "outputs": [
    {
     "name": "stdin",
     "output_type": "stream",
     "text": [
      "enter a number for checking number is armstrong or not 153\n"
     ]
    },
    {
     "name": "stdout",
     "output_type": "stream",
     "text": [
      "Yes\n"
     ]
    }
   ],
   "source": [
    "number = int(input(\"enter a number for checking number is armstrong or not\"))\n",
    "sum=0\n",
    "dup_num = number\n",
    "\n",
    "# Calculate the sum of each digit raised to the power of total digits\n",
    "while(dup_num>0):\n",
    "    sum+= (dup_num%10)**(len(str(number)))\n",
    "    dup_num//=10\n",
    "    \n",
    "# Check if the sum is equal to the original number\n",
    "if (sum==number):\n",
    "    print(\"Yes\")\n",
    "else:\n",
    "    print(\"No\")"
   ]
  },
  {
   "cell_type": "code",
   "execution_count": null,
   "id": "6e0e250a-e8c6-4c3e-90e5-ef51abec2d29",
   "metadata": {},
   "outputs": [],
   "source": []
  }
 ],
 "metadata": {
  "kernelspec": {
   "display_name": "Python 3 (ipykernel)",
   "language": "python",
   "name": "python3"
  },
  "language_info": {
   "codemirror_mode": {
    "name": "ipython",
    "version": 3
   },
   "file_extension": ".py",
   "mimetype": "text/x-python",
   "name": "python",
   "nbconvert_exporter": "python",
   "pygments_lexer": "ipython3",
   "version": "3.10.8"
  }
 },
 "nbformat": 4,
 "nbformat_minor": 5
}
